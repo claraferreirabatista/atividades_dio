{
 "cells": [
  {
   "cell_type": "code",
   "execution_count": 3,
   "metadata": {},
   "outputs": [
    {
     "name": "stdout",
     "output_type": "stream",
     "text": [
      "\n",
      "================ EXTRATO ================\n",
      "Não foram realizadas movimentações.\n",
      "\n",
      "Saldo atual: R$ 0.00\n",
      "==========================================\n",
      "Operação inválida, por favor selecione novamente a operação desejada.\n",
      "Operação inválida, por favor selecione novamente a operação desejada.\n"
     ]
    }
   ],
   "source": [
    "menu = \"\"\"\n",
    "\n",
    "[d] Depositar\n",
    "[s] Sacar\n",
    "[e] Extrato\n",
    "[q] Sair\n",
    "\n",
    "=> \"\"\"\n",
    "\n",
    "saldo = 0\n",
    "limite = 500\n",
    "extrato = \"\"\n",
    "numero_saques = 0\n",
    "LIMITE_SAQUES = 3\n",
    "\n",
    "while True:\n",
    "\n",
    "    opcao = input(menu)\n",
    "\n",
    "    if opcao == \"d\":\n",
    "        valor = float(input(\"Informe o valor do depósito: \"))\n",
    "\n",
    "        if valor > 0:\n",
    "            saldo += valor\n",
    "            extrato += f\"Depósito: R$ {valor:.2f}\\n\"\n",
    "            print(f\"Operação de depósito no valor de R$ {valor:.2f} realizada com sucesso.\")\n",
    "\n",
    "        else:\n",
    "            print(\"Operação falhou! O valor informado é inválido.\")\n",
    "\n",
    "    elif opcao == \"s\":\n",
    "        valor = float(input(\"Informe o valor do saque: \"))\n",
    "\n",
    "        excedeu_saldo = valor > saldo\n",
    "        excedeu_limite = valor > limite\n",
    "        excedeu_saques = numero_saques >= LIMITE_SAQUES\n",
    "\n",
    "        if excedeu_saldo:\n",
    "            print(\"Operação falhou! Você não tem saldo suficiente.\")\n",
    "\n",
    "        elif excedeu_limite:\n",
    "            print(\"Operação falhou! O valor do saque excede o limite.\")\n",
    "\n",
    "        elif excedeu_saques:\n",
    "            print(\"Operação falhou! Número máximo de saques diários excedido.\")\n",
    "\n",
    "        elif valor > 0:\n",
    "            saldo -= valor\n",
    "            extrato += f\"Saque: R$ {valor:.2f}\\n\"\n",
    "            numero_saques += 1\n",
    "            print(f\"Saque no valor de R$ {valor:.2f} realizado com sucesso.\")\n",
    "\n",
    "        else:\n",
    "            print(\"Operação falhou! O valor informado é inválido.\")\n",
    "\n",
    "    elif opcao == \"e\":\n",
    "        print(\"\\n================ EXTRATO ================\")\n",
    "        if not extrato:\n",
    "            print(\"Não foram realizadas movimentações.\")\n",
    "        else:\n",
    "            print(extrato)\n",
    "        print(f\"\\nSaldo atual: R$ {saldo:.2f}\")\n",
    "        print(\"==========================================\")\n",
    "\n",
    "    elif opcao == \"q\":\n",
    "        break\n",
    "\n",
    "    else:\n",
    "        print(\"Operação inválida, por favor selecione novamente a operação desejada.\")\n"
   ]
  }
 ],
 "metadata": {
  "kernelspec": {
   "display_name": "Python 3",
   "language": "python",
   "name": "python3"
  },
  "language_info": {
   "codemirror_mode": {
    "name": "ipython",
    "version": 3
   },
   "file_extension": ".py",
   "mimetype": "text/x-python",
   "name": "python",
   "nbconvert_exporter": "python",
   "pygments_lexer": "ipython3",
   "version": "3.11.9"
  }
 },
 "nbformat": 4,
 "nbformat_minor": 2
}
